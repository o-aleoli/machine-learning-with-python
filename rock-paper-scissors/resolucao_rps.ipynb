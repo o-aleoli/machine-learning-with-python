{
  "cells": [
    {
      "cell_type": "markdown",
      "metadata": {
        "id": "kiHg0OB6ZXI-"
      },
      "source": [
        "# Projeto 1: Rock Paper Scissors\n",
        "\n",
        "- Descrição e arquivos originais disponíveis no site da [FreeCodeCamp](https://www.freecodecamp.org/learn/machine-learning-with-python/machine-learning-with-python-projects/rock-paper-scissors).\n",
        "\n",
        "- Objetivo: vencer quatro robôs em mais de 60% das partidas de pedra papel e tesoura.\n",
        "    - Regras do jogo: para cada jogada, ganha o complemento.\n",
        "        - Se `'R'`, então `'P'`;\n",
        "        - Se `'P'`, então `'S'`;\n",
        "        - Se `'S'`, então `'R'`.\n",
        "\n",
        "- Método: treinar uma rede neural recorrente capaz de identificar o padrão de cada robô e adotar a estratégia correta para vencê-lo;\n",
        "    - Inicialmente, realizar jogadas aleatórias enquanto alimenta a RNN.\n",
        "    - Quando o número de jogadas for satisfatório, fazer uma previsão com a RNN.\n",
        "    - Com o robô identificado, então selecionar a estratégia adequada e derrotá-lo pelo restante de jogadas que faltam."
      ]
    },
    {
      "cell_type": "markdown",
      "metadata": {
        "id": "GwJ_KThvZXJE"
      },
      "source": [
        "## Padrões de Jogo\n",
        "\n",
        "- `quincy` sempre joga a sequência `[\"R\", \"R\", \"P\", \"P\", \"S\"]`.\n",
        "\n",
        "- `mrugesh` lê e atualiza o histórico de jogadas do oponente. Das 10 últimas jogadas, ele escolhe o movimento contra a mais frequente. Caso seja o primeio jogo, ele escolhe `'S'`.\n",
        "\n",
        "- `kris` lê a última jogada do oponente e joga contra ela. Caso seja o primeiro jogo então joga `'R'`.\n",
        "\n",
        "- `abey` lê e atualiza o histórico de jogadas do oponente como o `mrugesh` faz, porém ele escolhe o movimento primeiro determinando qual combinação de duas jogadas foi a mais frequente e em seguida joga contra a última dessa dupla.\n",
        "\n",
        "- A estratégia para derrotá-los é basicamente a mesma: aplicar o mesmo algoritimo de cada um lendo o histórico do próprio jogador e escolher a jogada que derrote o que for instruído ao algoritimo do robô."
      ]
    },
    {
      "cell_type": "markdown",
      "metadata": {
        "id": "bLcTqs16ZXJF"
      },
      "source": [
        "## Pré-processamento\n",
        "\n",
        "- No problema, se jogará 1000 rodadas por robô, totalizando 4000 jogadas.\n",
        "    - Em treino, se usará sequências de $N = 400$ jogadas.\n",
        "\n",
        "- Para o treino e validação, se gerará um banco de dados ordens de grandeza maior, com $20 \\times 10^6$ jogadas.\n",
        "\n",
        "- Há duas variáveis: jogada e robô. Aplicando o one-hot encoding se obtém $1+4=5$ variáveis numéricas por observação.\n",
        "\n",
        "- O número de sequências ao fim do pré-processamento é $4 \\times 5 \\times 10^6 / N = 50 \\times 10^3$, ou $5 \\times 10^6 / N = 12,5 \\times 10^3$ por robô.\n",
        "\n",
        "- Como a identidade do robô é a variável de interesse, então deve-se sortear $N$ jogadas do mesmo robô de forma que não haja correlação entre um lote e outro.\n",
        "\n",
        "- Os exemplos serão gerados com jogadas aleatórias contra os robôs, garantindo que o padrão observado venha das estratégias de jogo e não do conjunto de valores da variável independente.\n",
        "\n",
        "- A geração dos bancos de dados se deu usando os arquivos `generate_ETL_plays.py` e `generate_ETL_plays_validation.py`. Aqui a discussão se retém a observar o padrão de cada robô."
      ]
    },
    {
      "cell_type": "code",
      "execution_count": null,
      "metadata": {
        "id": "wEjhbuErZXJG"
      },
      "outputs": [],
      "source": [
        "from RPS_game import mrugesh, abbey, quincy, kris, random_player\n",
        "\n",
        "def Play_List(player1, player2, num_games):\n",
        "    p1_prev_play = \"\"\n",
        "    p2_prev_play = \"\"\n",
        "    bot_history = []\n",
        "    \n",
        "    for _ in range(num_games):\n",
        "        p1_play = player1(p2_prev_play)\n",
        "        p2_play = player2(p1_prev_play)\n",
        "\n",
        "        bot_history.append(p2_play)\n",
        "\n",
        "        p1_prev_play = p1_play\n",
        "        p2_prev_play = p2_play\n",
        "    \n",
        "    return bot_history\n",
        "\n",
        "num_games = int(5e6)\n",
        "\n",
        "rand_mrugesh = Play_List(random_player, mrugesh, num_games)\n",
        "rand_abbey = Play_List(random_player, abbey, num_games)\n",
        "rand_quincy = Play_List(random_player, quincy, num_games)\n",
        "rand_kris = Play_List(random_player, kris, num_games)"
      ]
    },
    {
      "cell_type": "code",
      "execution_count": null,
      "metadata": {
        "id": "cM7ty2SyZXJH"
      },
      "outputs": [],
      "source": [
        "import pandas as pd\n",
        "\n",
        "out = [\n",
        "    pd.DataFrame(rand_mrugesh, columns = ['play']),\n",
        "    pd.DataFrame(rand_abbey, columns = ['play']),\n",
        "    pd.DataFrame(rand_quincy, columns = ['play']),\n",
        "    pd.DataFrame(rand_kris, columns = ['play'])\n",
        "]\n",
        "bots = ['mrugesh', 'abbey', 'quincy', 'kris']\n",
        "play_encoding = lambda e: 0 if e == 'R' else (1 if e == 'P' else 2)\n",
        "\n",
        "for i in range(len(bots)):\n",
        "    out[i] = out[i].applymap(play_encoding)\n",
        "    out[i]['bot'] = bots[i]\n",
        "\n",
        "db_plays = pd.concat(out, axis = 0)\n",
        "db_plays = pd.concat([db_plays, pd.get_dummies(db_plays['bot'])], axis = 1)\\\n",
        "    .drop('bot', axis = 1)\\\n",
        "    .reset_index(drop = True)"
      ]
    },
    {
      "cell_type": "code",
      "execution_count": null,
      "metadata": {
        "id": "sPlSHIkIZXJI",
        "outputId": "eb82e937-0727-42ed-ee7b-2b64e8d01e51"
      },
      "outputs": [
        {
          "data": {
            "text/html": [
              "<div>\n",
              "<style scoped>\n",
              "    .dataframe tbody tr th:only-of-type {\n",
              "        vertical-align: middle;\n",
              "    }\n",
              "\n",
              "    .dataframe tbody tr th {\n",
              "        vertical-align: top;\n",
              "    }\n",
              "\n",
              "    .dataframe thead th {\n",
              "        text-align: right;\n",
              "    }\n",
              "</style>\n",
              "<table border=\"1\" class=\"dataframe\">\n",
              "  <thead>\n",
              "    <tr style=\"text-align: right;\">\n",
              "      <th></th>\n",
              "      <th>play</th>\n",
              "      <th>abbey</th>\n",
              "      <th>kris</th>\n",
              "      <th>mrugesh</th>\n",
              "      <th>quincy</th>\n",
              "    </tr>\n",
              "  </thead>\n",
              "  <tbody>\n",
              "    <tr>\n",
              "      <th>0</th>\n",
              "      <td>0</td>\n",
              "      <td>0</td>\n",
              "      <td>0</td>\n",
              "      <td>1</td>\n",
              "      <td>0</td>\n",
              "    </tr>\n",
              "    <tr>\n",
              "      <th>1</th>\n",
              "      <td>0</td>\n",
              "      <td>0</td>\n",
              "      <td>0</td>\n",
              "      <td>1</td>\n",
              "      <td>0</td>\n",
              "    </tr>\n",
              "    <tr>\n",
              "      <th>2</th>\n",
              "      <td>0</td>\n",
              "      <td>0</td>\n",
              "      <td>0</td>\n",
              "      <td>1</td>\n",
              "      <td>0</td>\n",
              "    </tr>\n",
              "    <tr>\n",
              "      <th>3</th>\n",
              "      <td>1</td>\n",
              "      <td>0</td>\n",
              "      <td>0</td>\n",
              "      <td>1</td>\n",
              "      <td>0</td>\n",
              "    </tr>\n",
              "    <tr>\n",
              "      <th>4</th>\n",
              "      <td>0</td>\n",
              "      <td>0</td>\n",
              "      <td>0</td>\n",
              "      <td>1</td>\n",
              "      <td>0</td>\n",
              "    </tr>\n",
              "    <tr>\n",
              "      <th>...</th>\n",
              "      <td>...</td>\n",
              "      <td>...</td>\n",
              "      <td>...</td>\n",
              "      <td>...</td>\n",
              "      <td>...</td>\n",
              "    </tr>\n",
              "    <tr>\n",
              "      <th>399995</th>\n",
              "      <td>1</td>\n",
              "      <td>0</td>\n",
              "      <td>1</td>\n",
              "      <td>0</td>\n",
              "      <td>0</td>\n",
              "    </tr>\n",
              "    <tr>\n",
              "      <th>399996</th>\n",
              "      <td>0</td>\n",
              "      <td>0</td>\n",
              "      <td>1</td>\n",
              "      <td>0</td>\n",
              "      <td>0</td>\n",
              "    </tr>\n",
              "    <tr>\n",
              "      <th>399997</th>\n",
              "      <td>1</td>\n",
              "      <td>0</td>\n",
              "      <td>1</td>\n",
              "      <td>0</td>\n",
              "      <td>0</td>\n",
              "    </tr>\n",
              "    <tr>\n",
              "      <th>399998</th>\n",
              "      <td>0</td>\n",
              "      <td>0</td>\n",
              "      <td>1</td>\n",
              "      <td>0</td>\n",
              "      <td>0</td>\n",
              "    </tr>\n",
              "    <tr>\n",
              "      <th>399999</th>\n",
              "      <td>1</td>\n",
              "      <td>0</td>\n",
              "      <td>1</td>\n",
              "      <td>0</td>\n",
              "      <td>0</td>\n",
              "    </tr>\n",
              "  </tbody>\n",
              "</table>\n",
              "<p>400000 rows × 5 columns</p>\n",
              "</div>"
            ],
            "text/plain": [
              "        play  abbey  kris  mrugesh  quincy\n",
              "0          0      0     0        1       0\n",
              "1          0      0     0        1       0\n",
              "2          0      0     0        1       0\n",
              "3          1      0     0        1       0\n",
              "4          0      0     0        1       0\n",
              "...      ...    ...   ...      ...     ...\n",
              "399995     1      0     1        0       0\n",
              "399996     0      0     1        0       0\n",
              "399997     1      0     1        0       0\n",
              "399998     0      0     1        0       0\n",
              "399999     1      0     1        0       0\n",
              "\n",
              "[400000 rows x 5 columns]"
            ]
          },
          "execution_count": 12,
          "metadata": {},
          "output_type": "execute_result"
        }
      ],
      "source": [
        "db_plays"
      ]
    },
    {
      "cell_type": "markdown",
      "metadata": {
        "id": "GWTi7taaZXJM"
      },
      "source": [
        "- Como boa prática, primeiro observamos como se distribuem as jogadas de cada robô.\n",
        "\n",
        "- Como há diferenças nas estatísticas de cada robô, então deve ser possível aprender o padrão de jogada. Porém, como o desvio padrão é alto, se espera que seja necessária uma grande quantidade de entradas para o modelo corretamente catalogar o robô."
      ]
    },
    {
      "cell_type": "code",
      "execution_count": null,
      "metadata": {
        "id": "DkFm569jZXJM",
        "outputId": "e6ce5d7f-94ed-4886-e05d-1a997ecae569"
      },
      "outputs": [
        {
          "data": {
            "text/plain": [
              "0    46.745\n",
              "2    41.269\n",
              "1    11.986\n",
              "Name: play, dtype: float64"
            ]
          },
          "execution_count": 3,
          "metadata": {},
          "output_type": "execute_result"
        }
      ],
      "source": [
        "bots = ['mrugesh', 'abbey', 'quincy', 'kris']\n",
        "100 * db_plays.loc[db_plays['abbey'] == 1, 'play'].value_counts() / (db_plays.shape[0] / len(bots))"
      ]
    },
    {
      "cell_type": "code",
      "execution_count": null,
      "metadata": {
        "id": "7IjkYWt4ZXJM",
        "outputId": "88294344-79d9-42e8-a886-962ed2dbf5a2"
      },
      "outputs": [
        {
          "data": {
            "text/plain": [
              "1    33.543\n",
              "2    33.315\n",
              "0    33.142\n",
              "Name: play, dtype: float64"
            ]
          },
          "execution_count": 4,
          "metadata": {},
          "output_type": "execute_result"
        }
      ],
      "source": [
        "100 * db_plays.loc[db_plays['kris'] == 1, 'play'].value_counts() / (db_plays.shape[0] / len(bots))"
      ]
    },
    {
      "cell_type": "code",
      "execution_count": null,
      "metadata": {
        "id": "mydVpW0dZXJN",
        "outputId": "90f3ea8c-7223-4432-f338-b3fc1a8c1908"
      },
      "outputs": [
        {
          "data": {
            "text/plain": [
              "0    40.0\n",
              "1    40.0\n",
              "2    20.0\n",
              "Name: play, dtype: float64"
            ]
          },
          "execution_count": 5,
          "metadata": {},
          "output_type": "execute_result"
        }
      ],
      "source": [
        "100 * db_plays.loc[db_plays['quincy'] == 1, 'play'].value_counts() / (db_plays.shape[0] / len(bots))"
      ]
    },
    {
      "cell_type": "code",
      "execution_count": null,
      "metadata": {
        "id": "8kAXxghBZXJN",
        "outputId": "05d4cd67-f152-4ea5-bfbf-e9f3df67c3ee"
      },
      "outputs": [
        {
          "data": {
            "text/plain": [
              "2    34.220\n",
              "1    33.517\n",
              "0    32.263\n",
              "Name: play, dtype: float64"
            ]
          },
          "execution_count": 6,
          "metadata": {},
          "output_type": "execute_result"
        }
      ],
      "source": [
        "100 * db_plays.loc[db_plays['mrugesh'] == 1, 'play'].value_counts() / (db_plays.shape[0] / len(bots))"
      ]
    },
    {
      "cell_type": "markdown",
      "metadata": {
        "id": "BHMicDaGZXJO"
      },
      "source": [
        "- Divide-se o banco de dados em examples e label para treinamento e teste de forma a garantir a correlação entre a sequência de jogadas e o robô jogador.\n",
        "\n",
        "- Enfim, salva-se os bancos de dados em formato CSV pela conveniência."
      ]
    },
    {
      "cell_type": "code",
      "execution_count": null,
      "metadata": {
        "id": "gEUBXthzZXJO"
      },
      "outputs": [],
      "source": [
        "import numpy as np\n",
        "import os\n",
        "from google.colab import drive\n",
        "drive.mount('/content/drive')\n",
        "\n",
        "colab = True\n",
        "if colab:\n",
        "    path = '/content/drive/MyDrive/Colab Notebooks'\n",
        "else:\n",
        "    path = os.getcwd()\n",
        "bots = ['mrugesh', 'abbey', 'quincy', 'kris']\n",
        "sequence_length = int(1e4)\n",
        "\n",
        "examples = pd.DataFrame(db_plays['play'].values.reshape((db_plays.shape[0] // sequence_length, sequence_length)))\n",
        "labels = db_plays.loc[::sequence_length, bots]\n",
        "\n",
        "np.random.seed(666)\n",
        "examples = examples.reindex(np.random.permutation(examples.index))\n",
        "labels = labels.reindex(np.random.permutation(labels.index))\n",
        "\n",
        "partitions = [\n",
        "    int(0.9 * examples.shape[0]),\n",
        "    examples.shape[0]\n",
        "]\n",
        "db_filenames = ['db_examples_train.csv', 'db_examples_test.csv', 'db_labels_train.csv', 'db_labels_test.csv']\n",
        "dbs = [\n",
        "    examples.iloc[:partitions[0]].reset_index(drop = True),\n",
        "    examples.iloc[partitions[0]:partitions[1]].reset_index(drop = True),\n",
        "    labels.iloc[:partitions[0]].reset_index(drop = True),\n",
        "    labels.iloc[partitions[0]:partitions[1]].reset_index(drop = True),\n",
        "]\n",
        "\n",
        "for i in range(len(db_filenames)):\n",
        "    dbs[i].to_csv(os.path.join(path, db_filenames[i]))"
      ]
    },
    {
      "cell_type": "markdown",
      "metadata": {
        "id": "Hzo1M4v8eXje"
      },
      "source": [
        "- O modelo será validado contra um $N$ diferente do treinamento, avaliando se o modelo é capaz de fazer previsões no contexto do problema.\n",
        "    - Como se requer pelo menos 60% de acertos em 1000 partidas, se fará $N = 399$."
      ]
    },
    {
      "cell_type": "code",
      "execution_count": null,
      "metadata": {
        "id": "F_Gi30RneysO"
      },
      "outputs": [],
      "source": [
        "from RPS_game import mrugesh, abbey, quincy, kris, random_player\n",
        "import pandas as pd\n",
        "import numpy as np\n",
        "import os\n",
        "from google.colab import drive\n",
        "drive.mount('/content/drive')\n",
        "\n",
        "colab = True\n",
        "if colab:\n",
        "    path = '/content/drive/MyDrive/Colab Notebooks'\n",
        "else:\n",
        "    path = os.getcwd()\n",
        "\n",
        "def Play_List(player1, player2, num_games):\n",
        "    p1_prev_play = \"\"\n",
        "    p2_prev_play = \"\"\n",
        "    bot_history = []\n",
        "    \n",
        "    for _ in range(num_games):\n",
        "        p1_play = player1(p2_prev_play)\n",
        "        p2_play = player2(p1_prev_play)\n",
        "\n",
        "        bot_history.append(p2_play)\n",
        "\n",
        "        p1_prev_play = p1_play\n",
        "        p2_prev_play = p2_play\n",
        "    \n",
        "    return bot_history\n",
        "\n",
        "num_games = int(399)\n",
        "rand_mrugesh = Play_List(random_player, mrugesh, num_games)\n",
        "rand_abbey = Play_List(random_player, abbey, num_games)\n",
        "rand_quincy = Play_List(random_player, quincy, num_games)\n",
        "rand_kris = Play_List(random_player, kris, num_games)\n",
        "\n",
        "out = [\n",
        "    pd.DataFrame(rand_mrugesh, columns = ['play']),\n",
        "    pd.DataFrame(rand_abbey, columns = ['play']),\n",
        "    pd.DataFrame(rand_quincy, columns = ['play']),\n",
        "    pd.DataFrame(rand_kris, columns = ['play'])\n",
        "]\n",
        "bots = ['mrugesh', 'abbey', 'quincy', 'kris']\n",
        "play_encoding = lambda e: 0 if e == 'R' else (1 if e == 'P' else 2)\n",
        "\n",
        "for i in range(len(bots)):\n",
        "    out[i] = out[i].applymap(play_encoding)\n",
        "    out[i]['bot'] = bots[i]\n",
        "\n",
        "db_plays = pd.concat(out, axis = 0)\n",
        "db_plays = pd.concat([db_plays, pd.get_dummies(db_plays['bot'])], axis = 1)\\\n",
        "    .drop('bot', axis = 1)\\\n",
        "    .reset_index(drop = True)\n",
        "    \n",
        "examples = pd.DataFrame(db_plays['play'].values.reshape((4, num_games)))\n",
        "labels = db_plays.loc[::num_games, bots]\n",
        "\n",
        "np.random.seed(666)\n",
        "examples = examples.reindex(np.random.permutation(examples.index))\n",
        "labels = labels.reindex(np.random.permutation(labels.index))\n",
        "\n",
        "examples.to_csv(os.path.join(path, 'db_examples_validation.csv'))\n",
        "labels.to_csv(os.path.join(path, 'db_labels_validation.csv'))"
      ]
    },
    {
      "cell_type": "markdown",
      "metadata": {
        "id": "vV55ziPrZXJO"
      },
      "source": [
        "- Enfim, se transforma o banco de dados num tensor dividido em lotes."
      ]
    },
    {
      "cell_type": "code",
      "execution_count": null,
      "metadata": {},
      "outputs": [],
      "source": [
        "import tensorflow as tf\n",
        "import pandas as pd\n",
        "import os\n",
        "from google.colab import drive\n",
        "drive.mount('/content/drive')\n",
        "\n",
        "colab = True\n",
        "if colab:\n",
        "    path = '/content/drive/MyDrive/Colab Notebooks'\n",
        "else:\n",
        "    path = os.getcwd()\n",
        "\n",
        "batch_size = 100\n",
        "\n",
        "TFd_plays_train = tf.data.Dataset.from_tensor_slices((\n",
        "    pd.read_csv(os.path.join(path, 'db_examples_train.csv')),\n",
        "    pd.read_csv(os.path.join(path, 'db_labels_train.csv'))\n",
        "))\\\n",
        "    .batch(batch_size, drop_remainder = True)"
      ]
    },
    {
      "cell_type": "code",
      "execution_count": null,
      "metadata": {
        "id": "8tzicqciZXJP",
        "outputId": "1d9bc960-2ccb-401c-b581-b73f073a7567"
      },
      "outputs": [
        {
          "data": {
            "text/plain": [
              "(TensorSpec(shape=(1000, 100), dtype=tf.int64, name=None),\n",
              " TensorSpec(shape=(1000, 4), dtype=tf.uint8, name=None))"
            ]
          },
          "execution_count": 25,
          "metadata": {},
          "output_type": "execute_result"
        }
      ],
      "source": [
        "TFd_plays_train.element_spec"
      ]
    },
    {
      "cell_type": "markdown",
      "metadata": {
        "id": "nDmNf67NBf2R"
      },
      "source": [
        "## Construção, Treinamento, Teste e Validação da RNN\n",
        "\n",
        "- É um problema parecido com o de previsão de caractere abordado anteriormente, porém a última camada deve ser de classificação (qual é o robô?).\n",
        "    - Variável independente (feature): do tipo categórica, diz qual a jogada do robô.\n",
        "    - Variável dependente (label): do tipo categórica, diz qual robô fez a jogada. Aqui se trata os dados com one-hot encoding.\n",
        "    - Assim como o problema anterior, o treino do modelo será com uma quantidade de jogadas $N$ (timesteps) e a previsão com um $N$ menor.\n",
        "\n",
        "- Entrada do modelo: uma lista de dimensão $(N_{lote}, N, 1)$ com as $N$ últimas jogadas do robô em lotes com $N_{lote}$ sequências.\n",
        "    - A entrada é gerada a partir do histórico de um robô contra um oponente que toma decições aleatórias.\n",
        "    - Essa lista tem tamanho arbitrário, porém $N > 20$ de forma a capturar os padrões tanto do `mrugesh` quanto do `abey`.\n",
        "    - Se escolhe treinar com $N = 400$ e validar o modelo com $N = 399$, de forma a cumprir o mínimo de 60% de vitórias. \n",
        "\n",
        "- Saída do modelo: uma lista de números com dimensão $(N_{lote}, 4)$ dando a distribuição de probabilidades para cada robô.\n",
        "\n",
        "- Topologia:\n",
        "    - Uma camada LSTM bidirecional de 128 unidades cada, com entrada $(N_{lote}, N, 1)$ e saída de $(N_{lote}, 2 \\times 128)$ dimensionais.\n",
        "        - Como cada entrada do lote é independente, o estado da camada deve ser reinicializado (`stateful = False`).\n",
        "        - O padrão a ser detectado é sensível ao contexto, por isso essa camada será bidirecional.\n",
        "    - Uma camada densa com saída de 4 dimensões (número de tipos de robô).\n",
        "\n",
        "- Como a variável dependente é categórica codificada com one-hot, se escolheu a função de entropia cruzada (categorical crossentropy) para ser minimizada e como métrica o score F, que otimiza precisão e revocação.\n",
        "\n",
        "- Saídas negativas e maiores que um não fazem sentido na camada densa, por essa razão se escolheu a função de ativação softmax."
      ]
    },
    {
      "cell_type": "code",
      "execution_count": null,
      "metadata": {
        "id": "Jjs43SeJCuZE"
      },
      "outputs": [],
      "source": [
        "def Build_Model (seq_length, rnn_units):\n",
        "    return tf.keras.Sequential([\n",
        "        tf.keras.layers.Bidirectional(\n",
        "            tf.keras.layers.LSTM(\n",
        "                rnn_units,\n",
        "                stateful = False\n",
        "            ),\n",
        "            batch_input_shape = (None, seq_length, 1)\n",
        "        ),\n",
        "        tf.keras.layers.Dense(4, activation = 'softmax')# 'mrugesh', 'abbey', 'quincy' ou 'kris'\n",
        "    ])"
      ]
    },
    {
      "cell_type": "code",
      "execution_count": null,
      "metadata": {
        "colab": {
          "base_uri": "https://localhost:8080/"
        },
        "id": "mywvle713rxg",
        "outputId": "2c7349c2-e852-46e3-bb88-f1058afdcced"
      },
      "outputs": [
        {
          "name": "stdout",
          "output_type": "stream",
          "text": [
            "Drive already mounted at /content/drive; to attempt to forcibly remount, call drive.mount(\"/content/drive\", force_remount=True).\n",
            "Model: \"sequential_6\"\n",
            "_________________________________________________________________\n",
            " Layer (type)                Output Shape              Param #   \n",
            "=================================================================\n",
            " bidirectional_6 (Bidirectio  (None, 256)              133120    \n",
            " nal)                                                            \n",
            "                                                                 \n",
            " dense_6 (Dense)             (None, 4)                 1028      \n",
            "                                                                 \n",
            "=================================================================\n",
            "Total params: 134,148\n",
            "Trainable params: 134,148\n",
            "Non-trainable params: 0\n",
            "_________________________________________________________________\n"
          ]
        }
      ],
      "source": [
        "import tensorflow as tf\n",
        "import tensorflow_addons as tfa\n",
        "import os\n",
        "import pandas as pd\n",
        "from google.colab import drive\n",
        "drive.mount('/content/drive')\n",
        "\n",
        "batch_size = 100\n",
        "sequence_length = 400\n",
        "hidden_lstm_units = 2 * 64\n",
        "\n",
        "colab = True\n",
        "if colab:\n",
        "    path = '/content/drive/MyDrive/Colab Notebooks/'\n",
        "else:\n",
        "    path = os.getcwd()\n",
        "\n",
        "db_train = pd.read_csv(os.path.join(path, 'db_train.csv')).drop(columns = 'Unnamed: 0')\n",
        "labels_train = pd.get_dummies(db_train['bot'])\n",
        "features_train = db_train.drop(columns = 'bot')\n",
        "\n",
        "TFd_plays_train = tf.data.Dataset.from_tensor_slices((\n",
        "    features_train,\n",
        "    labels_train\n",
        "))\\\n",
        "    .batch(batch_size, drop_remainder = True)\n",
        "\n",
        "model = Build_Model(sequence_length, hidden_lstm_units)\n",
        "model.reset_states()\n",
        "model.compile(\n",
        "    loss = 'categorical_crossentropy',\n",
        "    metrics = tfa.metrics.F1Score(num_classes = 4, average = 'macro')\n",
        ")\n",
        "model.summary()"
      ]
    },
    {
      "cell_type": "code",
      "execution_count": null,
      "metadata": {
        "colab": {
          "base_uri": "https://localhost:8080/",
          "height": 771
        },
        "id": "E83TE6qSFiEw",
        "outputId": "1a568132-3fcc-448e-b2c0-ca66c549c968"
      },
      "outputs": [
        {
          "name": "stdout",
          "output_type": "stream",
          "text": [
            "Epoch 1/20\n",
            "450/450 [==============================] - 80s 177ms/step - loss: 0.2422 - f1_score: 0.8803\n",
            "Epoch 2/20\n",
            "450/450 [==============================] - 79s 176ms/step - loss: 0.2390 - f1_score: 0.8800\n",
            "Epoch 3/20\n",
            "450/450 [==============================] - 86s 192ms/step - loss: 0.2435 - f1_score: 0.8781\n",
            "Epoch 4/20\n",
            "450/450 [==============================] - 84s 186ms/step - loss: 0.2347 - f1_score: 0.8807\n",
            "Epoch 5/20\n",
            "450/450 [==============================] - 81s 180ms/step - loss: 0.2315 - f1_score: 0.8808\n",
            "Epoch 6/20\n",
            "450/450 [==============================] - 80s 179ms/step - loss: 0.2635 - f1_score: 0.8771\n",
            "Epoch 7/20\n",
            "450/450 [==============================] - 80s 177ms/step - loss: 0.2370 - f1_score: 0.8803\n",
            "Epoch 8/20\n",
            "450/450 [==============================] - 79s 177ms/step - loss: 0.2467 - f1_score: 0.8769\n",
            "Epoch 9/20\n",
            "450/450 [==============================] - 80s 177ms/step - loss: 0.2492 - f1_score: 0.8782\n",
            "Epoch 10/20\n",
            " 16/450 [>.............................] - ETA: 1:16 - loss: 1.0815 - f1_score: 0.7281"
          ]
        },
        {
          "ename": "KeyboardInterrupt",
          "evalue": "ignored",
          "output_type": "error",
          "traceback": [
            "\u001b[0;31m---------------------------------------------------------------------------\u001b[0m",
            "\u001b[0;31mKeyboardInterrupt\u001b[0m                         Traceback (most recent call last)",
            "\u001b[0;32m<ipython-input-19-034da487e5d3>\u001b[0m in \u001b[0;36m<module>\u001b[0;34m()\u001b[0m\n\u001b[1;32m     17\u001b[0m     \u001b[0mTFd_plays_train\u001b[0m\u001b[0;34m,\u001b[0m\u001b[0;34m\u001b[0m\u001b[0;34m\u001b[0m\u001b[0m\n\u001b[1;32m     18\u001b[0m     \u001b[0mepochs\u001b[0m \u001b[0;34m=\u001b[0m \u001b[0mnumber_epochs\u001b[0m\u001b[0;34m,\u001b[0m\u001b[0;34m\u001b[0m\u001b[0;34m\u001b[0m\u001b[0m\n\u001b[0;32m---> 19\u001b[0;31m     \u001b[0mcallbacks\u001b[0m \u001b[0;34m=\u001b[0m \u001b[0;34m[\u001b[0m\u001b[0mckpt_callback\u001b[0m\u001b[0;34m]\u001b[0m\u001b[0;34m\u001b[0m\u001b[0;34m\u001b[0m\u001b[0m\n\u001b[0m\u001b[1;32m     20\u001b[0m )\n\u001b[1;32m     21\u001b[0m \u001b[0mmodel\u001b[0m\u001b[0;34m.\u001b[0m\u001b[0msave_weights\u001b[0m\u001b[0;34m(\u001b[0m\u001b[0mos\u001b[0m\u001b[0;34m.\u001b[0m\u001b[0mpath\u001b[0m\u001b[0;34m.\u001b[0m\u001b[0mjoin\u001b[0m\u001b[0;34m(\u001b[0m\u001b[0mpath\u001b[0m\u001b[0;34m,\u001b[0m \u001b[0;34m'trained_model'\u001b[0m\u001b[0;34m)\u001b[0m\u001b[0;34m)\u001b[0m\u001b[0;34m\u001b[0m\u001b[0;34m\u001b[0m\u001b[0m\n",
            "\u001b[0;32m/usr/local/lib/python3.7/dist-packages/keras/utils/traceback_utils.py\u001b[0m in \u001b[0;36merror_handler\u001b[0;34m(*args, **kwargs)\u001b[0m\n\u001b[1;32m     62\u001b[0m     \u001b[0mfiltered_tb\u001b[0m \u001b[0;34m=\u001b[0m \u001b[0;32mNone\u001b[0m\u001b[0;34m\u001b[0m\u001b[0;34m\u001b[0m\u001b[0m\n\u001b[1;32m     63\u001b[0m     \u001b[0;32mtry\u001b[0m\u001b[0;34m:\u001b[0m\u001b[0;34m\u001b[0m\u001b[0;34m\u001b[0m\u001b[0m\n\u001b[0;32m---> 64\u001b[0;31m       \u001b[0;32mreturn\u001b[0m \u001b[0mfn\u001b[0m\u001b[0;34m(\u001b[0m\u001b[0;34m*\u001b[0m\u001b[0margs\u001b[0m\u001b[0;34m,\u001b[0m \u001b[0;34m**\u001b[0m\u001b[0mkwargs\u001b[0m\u001b[0;34m)\u001b[0m\u001b[0;34m\u001b[0m\u001b[0;34m\u001b[0m\u001b[0m\n\u001b[0m\u001b[1;32m     65\u001b[0m     \u001b[0;32mexcept\u001b[0m \u001b[0mException\u001b[0m \u001b[0;32mas\u001b[0m \u001b[0me\u001b[0m\u001b[0;34m:\u001b[0m  \u001b[0;31m# pylint: disable=broad-except\u001b[0m\u001b[0;34m\u001b[0m\u001b[0;34m\u001b[0m\u001b[0m\n\u001b[1;32m     66\u001b[0m       \u001b[0mfiltered_tb\u001b[0m \u001b[0;34m=\u001b[0m \u001b[0m_process_traceback_frames\u001b[0m\u001b[0;34m(\u001b[0m\u001b[0me\u001b[0m\u001b[0;34m.\u001b[0m\u001b[0m__traceback__\u001b[0m\u001b[0;34m)\u001b[0m\u001b[0;34m\u001b[0m\u001b[0;34m\u001b[0m\u001b[0m\n",
            "\u001b[0;32m/usr/local/lib/python3.7/dist-packages/keras/engine/training.py\u001b[0m in \u001b[0;36mfit\u001b[0;34m(self, x, y, batch_size, epochs, verbose, callbacks, validation_split, validation_data, shuffle, class_weight, sample_weight, initial_epoch, steps_per_epoch, validation_steps, validation_batch_size, validation_freq, max_queue_size, workers, use_multiprocessing)\u001b[0m\n\u001b[1;32m   1382\u001b[0m                 _r=1):\n\u001b[1;32m   1383\u001b[0m               \u001b[0mcallbacks\u001b[0m\u001b[0;34m.\u001b[0m\u001b[0mon_train_batch_begin\u001b[0m\u001b[0;34m(\u001b[0m\u001b[0mstep\u001b[0m\u001b[0;34m)\u001b[0m\u001b[0;34m\u001b[0m\u001b[0;34m\u001b[0m\u001b[0m\n\u001b[0;32m-> 1384\u001b[0;31m               \u001b[0mtmp_logs\u001b[0m \u001b[0;34m=\u001b[0m \u001b[0mself\u001b[0m\u001b[0;34m.\u001b[0m\u001b[0mtrain_function\u001b[0m\u001b[0;34m(\u001b[0m\u001b[0miterator\u001b[0m\u001b[0;34m)\u001b[0m\u001b[0;34m\u001b[0m\u001b[0;34m\u001b[0m\u001b[0m\n\u001b[0m\u001b[1;32m   1385\u001b[0m               \u001b[0;32mif\u001b[0m \u001b[0mdata_handler\u001b[0m\u001b[0;34m.\u001b[0m\u001b[0mshould_sync\u001b[0m\u001b[0;34m:\u001b[0m\u001b[0;34m\u001b[0m\u001b[0;34m\u001b[0m\u001b[0m\n\u001b[1;32m   1386\u001b[0m                 \u001b[0mcontext\u001b[0m\u001b[0;34m.\u001b[0m\u001b[0masync_wait\u001b[0m\u001b[0;34m(\u001b[0m\u001b[0;34m)\u001b[0m\u001b[0;34m\u001b[0m\u001b[0;34m\u001b[0m\u001b[0m\n",
            "\u001b[0;32m/usr/local/lib/python3.7/dist-packages/tensorflow/python/util/traceback_utils.py\u001b[0m in \u001b[0;36merror_handler\u001b[0;34m(*args, **kwargs)\u001b[0m\n\u001b[1;32m    148\u001b[0m     \u001b[0mfiltered_tb\u001b[0m \u001b[0;34m=\u001b[0m \u001b[0;32mNone\u001b[0m\u001b[0;34m\u001b[0m\u001b[0;34m\u001b[0m\u001b[0m\n\u001b[1;32m    149\u001b[0m     \u001b[0;32mtry\u001b[0m\u001b[0;34m:\u001b[0m\u001b[0;34m\u001b[0m\u001b[0;34m\u001b[0m\u001b[0m\n\u001b[0;32m--> 150\u001b[0;31m       \u001b[0;32mreturn\u001b[0m \u001b[0mfn\u001b[0m\u001b[0;34m(\u001b[0m\u001b[0;34m*\u001b[0m\u001b[0margs\u001b[0m\u001b[0;34m,\u001b[0m \u001b[0;34m**\u001b[0m\u001b[0mkwargs\u001b[0m\u001b[0;34m)\u001b[0m\u001b[0;34m\u001b[0m\u001b[0;34m\u001b[0m\u001b[0m\n\u001b[0m\u001b[1;32m    151\u001b[0m     \u001b[0;32mexcept\u001b[0m \u001b[0mException\u001b[0m \u001b[0;32mas\u001b[0m \u001b[0me\u001b[0m\u001b[0;34m:\u001b[0m\u001b[0;34m\u001b[0m\u001b[0;34m\u001b[0m\u001b[0m\n\u001b[1;32m    152\u001b[0m       \u001b[0mfiltered_tb\u001b[0m \u001b[0;34m=\u001b[0m \u001b[0m_process_traceback_frames\u001b[0m\u001b[0;34m(\u001b[0m\u001b[0me\u001b[0m\u001b[0;34m.\u001b[0m\u001b[0m__traceback__\u001b[0m\u001b[0;34m)\u001b[0m\u001b[0;34m\u001b[0m\u001b[0;34m\u001b[0m\u001b[0m\n",
            "\u001b[0;32m/usr/local/lib/python3.7/dist-packages/tensorflow/python/eager/def_function.py\u001b[0m in \u001b[0;36m__call__\u001b[0;34m(self, *args, **kwds)\u001b[0m\n\u001b[1;32m    913\u001b[0m \u001b[0;34m\u001b[0m\u001b[0m\n\u001b[1;32m    914\u001b[0m       \u001b[0;32mwith\u001b[0m \u001b[0mOptionalXlaContext\u001b[0m\u001b[0;34m(\u001b[0m\u001b[0mself\u001b[0m\u001b[0;34m.\u001b[0m\u001b[0m_jit_compile\u001b[0m\u001b[0;34m)\u001b[0m\u001b[0;34m:\u001b[0m\u001b[0;34m\u001b[0m\u001b[0;34m\u001b[0m\u001b[0m\n\u001b[0;32m--> 915\u001b[0;31m         \u001b[0mresult\u001b[0m \u001b[0;34m=\u001b[0m \u001b[0mself\u001b[0m\u001b[0;34m.\u001b[0m\u001b[0m_call\u001b[0m\u001b[0;34m(\u001b[0m\u001b[0;34m*\u001b[0m\u001b[0margs\u001b[0m\u001b[0;34m,\u001b[0m \u001b[0;34m**\u001b[0m\u001b[0mkwds\u001b[0m\u001b[0;34m)\u001b[0m\u001b[0;34m\u001b[0m\u001b[0;34m\u001b[0m\u001b[0m\n\u001b[0m\u001b[1;32m    916\u001b[0m \u001b[0;34m\u001b[0m\u001b[0m\n\u001b[1;32m    917\u001b[0m       \u001b[0mnew_tracing_count\u001b[0m \u001b[0;34m=\u001b[0m \u001b[0mself\u001b[0m\u001b[0;34m.\u001b[0m\u001b[0mexperimental_get_tracing_count\u001b[0m\u001b[0;34m(\u001b[0m\u001b[0;34m)\u001b[0m\u001b[0;34m\u001b[0m\u001b[0;34m\u001b[0m\u001b[0m\n",
            "\u001b[0;32m/usr/local/lib/python3.7/dist-packages/tensorflow/python/eager/def_function.py\u001b[0m in \u001b[0;36m_call\u001b[0;34m(self, *args, **kwds)\u001b[0m\n\u001b[1;32m    945\u001b[0m       \u001b[0;31m# In this case we have created variables on the first call, so we run the\u001b[0m\u001b[0;34m\u001b[0m\u001b[0;34m\u001b[0m\u001b[0;34m\u001b[0m\u001b[0m\n\u001b[1;32m    946\u001b[0m       \u001b[0;31m# defunned version which is guaranteed to never create variables.\u001b[0m\u001b[0;34m\u001b[0m\u001b[0;34m\u001b[0m\u001b[0;34m\u001b[0m\u001b[0m\n\u001b[0;32m--> 947\u001b[0;31m       \u001b[0;32mreturn\u001b[0m \u001b[0mself\u001b[0m\u001b[0;34m.\u001b[0m\u001b[0m_stateless_fn\u001b[0m\u001b[0;34m(\u001b[0m\u001b[0;34m*\u001b[0m\u001b[0margs\u001b[0m\u001b[0;34m,\u001b[0m \u001b[0;34m**\u001b[0m\u001b[0mkwds\u001b[0m\u001b[0;34m)\u001b[0m  \u001b[0;31m# pylint: disable=not-callable\u001b[0m\u001b[0;34m\u001b[0m\u001b[0;34m\u001b[0m\u001b[0m\n\u001b[0m\u001b[1;32m    948\u001b[0m     \u001b[0;32melif\u001b[0m \u001b[0mself\u001b[0m\u001b[0;34m.\u001b[0m\u001b[0m_stateful_fn\u001b[0m \u001b[0;32mis\u001b[0m \u001b[0;32mnot\u001b[0m \u001b[0;32mNone\u001b[0m\u001b[0;34m:\u001b[0m\u001b[0;34m\u001b[0m\u001b[0;34m\u001b[0m\u001b[0m\n\u001b[1;32m    949\u001b[0m       \u001b[0;31m# Release the lock early so that multiple threads can perform the call\u001b[0m\u001b[0;34m\u001b[0m\u001b[0;34m\u001b[0m\u001b[0;34m\u001b[0m\u001b[0m\n",
            "\u001b[0;32m/usr/local/lib/python3.7/dist-packages/tensorflow/python/eager/function.py\u001b[0m in \u001b[0;36m__call__\u001b[0;34m(self, *args, **kwargs)\u001b[0m\n\u001b[1;32m   2955\u001b[0m        filtered_flat_args) = self._maybe_define_function(args, kwargs)\n\u001b[1;32m   2956\u001b[0m     return graph_function._call_flat(\n\u001b[0;32m-> 2957\u001b[0;31m         filtered_flat_args, captured_inputs=graph_function.captured_inputs)  # pylint: disable=protected-access\n\u001b[0m\u001b[1;32m   2958\u001b[0m \u001b[0;34m\u001b[0m\u001b[0m\n\u001b[1;32m   2959\u001b[0m   \u001b[0;34m@\u001b[0m\u001b[0mproperty\u001b[0m\u001b[0;34m\u001b[0m\u001b[0;34m\u001b[0m\u001b[0m\n",
            "\u001b[0;32m/usr/local/lib/python3.7/dist-packages/tensorflow/python/eager/function.py\u001b[0m in \u001b[0;36m_call_flat\u001b[0;34m(self, args, captured_inputs, cancellation_manager)\u001b[0m\n\u001b[1;32m   1852\u001b[0m       \u001b[0;31m# No tape is watching; skip to running the function.\u001b[0m\u001b[0;34m\u001b[0m\u001b[0;34m\u001b[0m\u001b[0;34m\u001b[0m\u001b[0m\n\u001b[1;32m   1853\u001b[0m       return self._build_call_outputs(self._inference_function.call(\n\u001b[0;32m-> 1854\u001b[0;31m           ctx, args, cancellation_manager=cancellation_manager))\n\u001b[0m\u001b[1;32m   1855\u001b[0m     forward_backward = self._select_forward_and_backward_functions(\n\u001b[1;32m   1856\u001b[0m         \u001b[0margs\u001b[0m\u001b[0;34m,\u001b[0m\u001b[0;34m\u001b[0m\u001b[0;34m\u001b[0m\u001b[0m\n",
            "\u001b[0;32m/usr/local/lib/python3.7/dist-packages/tensorflow/python/eager/function.py\u001b[0m in \u001b[0;36mcall\u001b[0;34m(self, ctx, args, cancellation_manager)\u001b[0m\n\u001b[1;32m    502\u001b[0m               \u001b[0minputs\u001b[0m\u001b[0;34m=\u001b[0m\u001b[0margs\u001b[0m\u001b[0;34m,\u001b[0m\u001b[0;34m\u001b[0m\u001b[0;34m\u001b[0m\u001b[0m\n\u001b[1;32m    503\u001b[0m               \u001b[0mattrs\u001b[0m\u001b[0;34m=\u001b[0m\u001b[0mattrs\u001b[0m\u001b[0;34m,\u001b[0m\u001b[0;34m\u001b[0m\u001b[0;34m\u001b[0m\u001b[0m\n\u001b[0;32m--> 504\u001b[0;31m               ctx=ctx)\n\u001b[0m\u001b[1;32m    505\u001b[0m         \u001b[0;32melse\u001b[0m\u001b[0;34m:\u001b[0m\u001b[0;34m\u001b[0m\u001b[0;34m\u001b[0m\u001b[0m\n\u001b[1;32m    506\u001b[0m           outputs = execute.execute_with_cancellation(\n",
            "\u001b[0;32m/usr/local/lib/python3.7/dist-packages/tensorflow/python/eager/execute.py\u001b[0m in \u001b[0;36mquick_execute\u001b[0;34m(op_name, num_outputs, inputs, attrs, ctx, name)\u001b[0m\n\u001b[1;32m     53\u001b[0m     \u001b[0mctx\u001b[0m\u001b[0;34m.\u001b[0m\u001b[0mensure_initialized\u001b[0m\u001b[0;34m(\u001b[0m\u001b[0;34m)\u001b[0m\u001b[0;34m\u001b[0m\u001b[0;34m\u001b[0m\u001b[0m\n\u001b[1;32m     54\u001b[0m     tensors = pywrap_tfe.TFE_Py_Execute(ctx._handle, device_name, op_name,\n\u001b[0;32m---> 55\u001b[0;31m                                         inputs, attrs, num_outputs)\n\u001b[0m\u001b[1;32m     56\u001b[0m   \u001b[0;32mexcept\u001b[0m \u001b[0mcore\u001b[0m\u001b[0;34m.\u001b[0m\u001b[0m_NotOkStatusException\u001b[0m \u001b[0;32mas\u001b[0m \u001b[0me\u001b[0m\u001b[0;34m:\u001b[0m\u001b[0;34m\u001b[0m\u001b[0;34m\u001b[0m\u001b[0m\n\u001b[1;32m     57\u001b[0m     \u001b[0;32mif\u001b[0m \u001b[0mname\u001b[0m \u001b[0;32mis\u001b[0m \u001b[0;32mnot\u001b[0m \u001b[0;32mNone\u001b[0m\u001b[0;34m:\u001b[0m\u001b[0;34m\u001b[0m\u001b[0;34m\u001b[0m\u001b[0m\n",
            "\u001b[0;31mKeyboardInterrupt\u001b[0m: "
          ]
        }
      ],
      "source": [
        "number_epochs = 20\n",
        "ckpt_directory = 'training_ckpts_3'\n",
        "colab = True\n",
        "if colab:\n",
        "    path = '/content/drive/MyDrive/Colab Notebooks/'\n",
        "else:\n",
        "    path = os.getcwd()\n",
        "\n",
        "continuation_job = False\n",
        "if continuation_job:\n",
        "    model.load_weights(tf.train.latest_checkpoint(os.path.join(path + ckpt_directory)))\n",
        "\n",
        "ckpt_path = os.path.join(path, ckpt_directory, 'ckpt_{epoch}')\n",
        "ckpt_callback = tf.keras.callbacks.ModelCheckpoint(filepath = ckpt_path, save_weights_only = True)\n",
        "\n",
        "history = model.fit(\n",
        "    TFd_plays_train,\n",
        "    epochs = number_epochs,\n",
        "    callbacks = [ckpt_callback]\n",
        ")\n",
        "model.save_weights(os.path.join(path, 'trained_model'))"
      ]
    },
    {
      "cell_type": "markdown",
      "metadata": {},
      "source": [
        "- O treinamento foi interrompido quando se atingiu o `f1_score` desejado."
      ]
    },
    {
      "cell_type": "code",
      "execution_count": null,
      "metadata": {
        "id": "gTaj7kvINu0q"
      },
      "outputs": [],
      "source": [
        "model.save_weights(os.path.join(path, 'trained_model'))"
      ]
    },
    {
      "cell_type": "markdown",
      "metadata": {
        "id": "oaJp3SJYNh-N"
      },
      "source": [
        "- Avalia-se o desempenho desse novo modelo."
      ]
    },
    {
      "cell_type": "code",
      "execution_count": null,
      "metadata": {
        "colab": {
          "base_uri": "https://localhost:8080/"
        },
        "id": "hIHu6RZ5NleE",
        "outputId": "42c3ccf5-d325-4fae-8714-1fc5bf83e897"
      },
      "outputs": [
        {
          "name": "stdout",
          "output_type": "stream",
          "text": [
            "Drive already mounted at /content/drive; to attempt to forcibly remount, call drive.mount(\"/content/drive\", force_remount=True).\n",
            "50/50 [==============================] - 6s 81ms/step - loss: 0.2643 - f1_score: 0.8689\n"
          ]
        },
        {
          "data": {
            "text/plain": [
              "[0.26428523659706116, 0.8689265251159668]"
            ]
          },
          "execution_count": 22,
          "metadata": {},
          "output_type": "execute_result"
        }
      ],
      "source": [
        "import tensorflow as tf\n",
        "import tensorflow_addons as tfa\n",
        "import os\n",
        "import numpy as np\n",
        "import pandas as pd\n",
        "from google.colab import drive\n",
        "drive.mount('/content/drive')\n",
        "\n",
        "colab = True\n",
        "if colab:\n",
        "    path = '/content/drive/MyDrive/Colab Notebooks/'\n",
        "else:\n",
        "    path = os.getcwd()\n",
        "\n",
        "db_test = pd.read_csv(os.path.join(path, 'db_test.csv')).drop(columns = 'Unnamed: 0')\n",
        "labels_test = pd.get_dummies(db_test['bot'])\n",
        "features_test = db_test.drop(columns = 'bot')\n",
        "\n",
        "TFd_plays_test = tf.data.Dataset.from_tensor_slices((\n",
        "    features_test,\n",
        "    labels_test\n",
        "))\\\n",
        "    .batch(batch_size, drop_remainder = True)\n",
        "\n",
        "sequence_length = 400\n",
        "batch_size = 100\n",
        "hidden_lstm_units = 2 * 64\n",
        "\n",
        "model = Build_Model(sequence_length, batch_size, hidden_lstm_units)\n",
        "model.reset_states()\n",
        "model.load_weights(os.path.join(path, 'trained_model'))\n",
        "model.compile(\n",
        "    loss = 'categorical_crossentropy',\n",
        "    metrics = tfa.metrics.F1Score(num_classes = 4, average = 'macro')\n",
        ")\n",
        "model.evaluate(TFd_plays_test)"
      ]
    },
    {
      "cell_type": "markdown",
      "metadata": {},
      "source": [
        "- O modelo então é validado para $N = 399$. Apesar do score F elevado, ainda parece ter certa dificuldade de distinguir as jogadas de abbey e kris. No entando, isso não parece tão preocupante no contexto do problema."
      ]
    },
    {
      "cell_type": "code",
      "execution_count": null,
      "metadata": {
        "colab": {
          "base_uri": "https://localhost:8080/"
        },
        "id": "IkJqLvFS9Oyi",
        "outputId": "2e72d4d4-28c2-4c12-eb78-b787f1c07261"
      },
      "outputs": [
        {
          "name": "stdout",
          "output_type": "stream",
          "text": [
            "Drive already mounted at /content/drive; to attempt to forcibly remount, call drive.mount(\"/content/drive\", force_remount=True).\n",
            "kris    (kris)\n",
            "mrugesh (mrugesh)\n",
            "kris    (abbey)\n",
            "quincy  (quincy)\n"
          ]
        }
      ],
      "source": [
        "import tensorflow as tf\n",
        "import tensorflow_addons as tfa\n",
        "import os\n",
        "import numpy as np\n",
        "import pandas as pd\n",
        "from google.colab import drive\n",
        "drive.mount('/content/drive')\n",
        "\n",
        "colab = True\n",
        "if colab:\n",
        "    path = '/content/drive/MyDrive/Colab Notebooks/'\n",
        "else:\n",
        "    path = os.getcwd()\n",
        "\n",
        "bots = ['mrugesh', 'abbey', 'quincy', 'kris']\n",
        "db_validation = pd.read_csv(os.path.join(path, 'db_validation.csv')).drop(columns = 'Unnamed: 0')\n",
        "labels_validation = pd.get_dummies(db_validation['bot'])\n",
        "features_validation = db_validation.drop(columns = 'bot')\n",
        "\n",
        "TFd_plays_validation = tf.data.Dataset.from_tensor_slices((\n",
        "    features_validation,\n",
        "    labels_validation\n",
        "))\\\n",
        "    .batch(1, drop_remainder = True)\n",
        "\n",
        "sequence_length = 399\n",
        "batch_size = 1\n",
        "hidden_lstm_units = 2 * 64\n",
        "\n",
        "model = Build_Model(sequence_length, batch_size, hidden_lstm_units)\n",
        "model.reset_states()\n",
        "model.load_weights(os.path.join(path, 'trained_model'))\n",
        "model.compile(\n",
        "    loss = 'categorical_crossentropy',\n",
        "    metrics = tfa.metrics.F1Score(num_classes = 4, average = 'macro')\n",
        ")\n",
        "prediction = model.predict(TFd_plays_validation)\n",
        "\n",
        "for i in range(len(bots)):\n",
        "    print(f'{bots[prediction[i].argmax()]: <7} ({bots[labels_validation.to_numpy()[i].argmax()]})')"
      ]
    },
    {
      "cell_type": "code",
      "execution_count": null,
      "metadata": {
        "colab": {
          "base_uri": "https://localhost:8080/"
        },
        "id": "eZuF7Y4qHOXm",
        "outputId": "df7a9687-4f6b-46c9-a19d-04c2efa01cae"
      },
      "outputs": [
        {
          "data": {
            "text/plain": [
              "array([1.0359727e-01, 3.1019419e-01, 2.0586385e-11, 5.8620852e-01],\n",
              "      dtype=float32)"
            ]
          },
          "execution_count": 25,
          "metadata": {},
          "output_type": "execute_result"
        }
      ],
      "source": [
        "prediction[2]"
      ]
    },
    {
      "cell_type": "markdown",
      "metadata": {
        "id": "IMthtYV-qsQn"
      },
      "source": [
        "# Estratégias de Jogo\n",
        "\n",
        "- Uma vez validado, então se implementa na solução do problema.\n",
        "\n",
        "- Como a estratégia de jogo dos robôs é conhecida, implementa-se uma contra-estratégia assumindo que se sabe quem é o oponente."
      ]
    },
    {
      "cell_type": "markdown",
      "metadata": {},
      "source": [
        "## Abbey\n",
        "\n",
        "- O robô abbey escolhe a sua jogada observando o histórico do jogador: há o registro da frequência de duplas e, baseado nas combinações possíveis com a última jogada, escolhe aquela que apareceu mais vezes no histórico do jogador.\n",
        "\n",
        "- Contra esse robô, se implementa a mesma estratégia de análise de frequência histórica porém, ao invés de se observar o histórico de abbey, se observa o próprio histórico. Dessa forma, sempre se saberá qual a próxima jogada do abbey, bastando modificar os valores no dicionário `ideal_response`."
      ]
    },
    {
      "cell_type": "code",
      "execution_count": null,
      "metadata": {
        "id": "lqbH_SN7sIiV"
      },
      "outputs": [],
      "source": [
        "def Counter_Abbey(opponent_history=[],\n",
        "            own_history=[],\n",
        "            num_plays=0,\n",
        "            play_order=[{\n",
        "                \"RR\": 0,\n",
        "                \"RP\": 0,\n",
        "                \"RS\": 0,\n",
        "                \"PR\": 0,\n",
        "                \"PP\": 0,\n",
        "                \"PS\": 0,\n",
        "                \"SR\": 0,\n",
        "                \"SP\": 0,\n",
        "                \"SS\": 0,\n",
        "            }]):\n",
        "\n",
        "    if len(own_history) == num_plays:\n",
        "        # Build statistics at first call to correctly apply abbey rules\n",
        "        for i in range(1, len(own_history) - 1):\n",
        "            play_pairs = ''.join(own_history[i - 1:i + 1])\n",
        "            play_order[0][play_pairs] += 1\n",
        "\n",
        "    # Proceed to play on abbey rules observing own plays\n",
        "    ideal_response = {'P': 'R', 'R': 'S', 'S': 'P'}\n",
        "    last_played = own_history[-1]\n",
        "    last_two = ''.join(own_history[-2:])\n",
        "    play_order[0][last_two] += 1\n",
        "\n",
        "    potential_plays = [\n",
        "        last_played + \"R\",\n",
        "        last_played + \"P\",\n",
        "        last_played + \"S\",\n",
        "    ]\n",
        "\n",
        "    sub_order = {k: play_order[0][k] for k in potential_plays if k in play_order[0]}\n",
        "\n",
        "    prediction = max(sub_order, key=sub_order.get)[-1:]\n",
        "\n",
        "    return ideal_response[prediction]"
      ]
    },
    {
      "cell_type": "markdown",
      "metadata": {},
      "source": [
        "## Kris\n",
        "\n",
        "- A estratégia do kris é simples: ele observa a última jogada do oponente e escolhe contra ela.\n",
        "\n",
        "- Contra esse robô então basta modificar os valores no dicionário `ideal_response`."
      ]
    },
    {
      "cell_type": "code",
      "execution_count": null,
      "metadata": {},
      "outputs": [],
      "source": [
        "def Counter_Kris(prev_opponent_play):\n",
        "    # Pick the play which counter kris's pick on its ideal_response\n",
        "    ideal_response = {'P': 'R', 'R': 'S', 'S': 'P'}\n",
        "\n",
        "    # Observe own's last play\n",
        "    return ideal_response[prev_opponent_play]"
      ]
    },
    {
      "cell_type": "markdown",
      "metadata": {},
      "source": [
        "## Quincy\n",
        "\n",
        "- Quincy sempre joga a mesma sequência de cinco escolhas;\n",
        "\n",
        "- Contra esse robô basta acompanhar em qual índice da lista ele está com a operação $\\mod(\\text{tamanho do histórico},\\, \\text{tamanho de \\textit{choices}})$."
      ]
    },
    {
      "cell_type": "code",
      "execution_count": null,
      "metadata": {},
      "outputs": [],
      "source": [
        "def Counter_Quincy(counter=[0]):\n",
        "    # Count the same way quincy counts\n",
        "    # and pick from a table which wins\n",
        "    # every play at the quincy's table\n",
        "    choices = ['P', 'P', 'S', 'S', 'R']\n",
        "\n",
        "    counter[0] += 1\n",
        "    \n",
        "    return choices[counter[0] % len(choices)]"
      ]
    },
    {
      "cell_type": "markdown",
      "metadata": {},
      "source": [
        "## Mrugesh\n",
        "\n",
        "- Mrugesh observa as frequências das últimas dez jogadas do oponente e escolhe a opção contra a jogada que apareceu mais vezes.\n",
        "\n",
        "- Assim como feito contra o abbey, basta observar o próprio histórico e modificar a escolha do dicionário `ideal_response`."
      ]
    },
    {
      "cell_type": "code",
      "execution_count": null,
      "metadata": {},
      "outputs": [],
      "source": [
        "def Counter_Mrugesh(opponent_history=[]):\n",
        "    # Pick the play which counter mrugesh's pick on its ideal_response\n",
        "    ideal_response = {'P': 'R', 'R': 'S', 'S': 'P'}\n",
        "    \n",
        "    # Measure own history's statistics\n",
        "    last_ten = opponent_history[-10:]\n",
        "    most_frequent = max(set(last_ten), key=last_ten.count)\n",
        "\n",
        "    return ideal_response[most_frequent]"
      ]
    }
  ],
  "metadata": {
    "accelerator": "GPU",
    "colab": {
      "collapsed_sections": [],
      "name": "caderno.ipynb",
      "provenance": []
    },
    "interpreter": {
      "hash": "31f2aee4e71d21fbe5cf8b01ff0e069b9275f58929596ceb00d14d90e3e16cd6"
    },
    "kernelspec": {
      "display_name": "Python 3.9.7 64-bit",
      "language": "python",
      "name": "python3"
    },
    "language_info": {
      "codemirror_mode": {
        "name": "ipython",
        "version": 3
      },
      "file_extension": ".py",
      "mimetype": "text/x-python",
      "name": "python",
      "nbconvert_exporter": "python",
      "pygments_lexer": "ipython3",
      "version": "3.9.7"
    },
    "orig_nbformat": 4
  },
  "nbformat": 4,
  "nbformat_minor": 0
}
